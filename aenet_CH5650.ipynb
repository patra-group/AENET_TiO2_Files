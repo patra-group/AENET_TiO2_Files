{
  "nbformat": 4,
  "nbformat_minor": 0,
  "metadata": {
    "colab": {
      "provenance": [],
      "toc_visible": true,
      "collapsed_sections": [
        "pp6puB2FfZjk"
      ]
    },
    "kernelspec": {
      "name": "python3",
      "display_name": "Python 3"
    },
    "language_info": {
      "name": "python"
    }
  },
  "cells": [
    {
      "cell_type": "markdown",
      "source": [
        "Copyright (c) 2021 April M. Misch <miksch@theochem.uni-stuttgart.de>, Alex Urban <a.urban@columbia.edu>, and Nong Artrith <nartrith@atomistic.net>\n",
        "Distributed under the terms of the Mozilla Public License, version 2.0 (https://www.mozilla.org/en-US/MPL/2.0/)\n",
        "\n",
        "This notebook is a companion to Miksch, Morawietz, Kaestner, Urban, Artrith, to be published (2021).\n",
        "\n",
        "The tutorial demonstrates the construction of an artificial neural network (ANN) interatomic potential for TiO2 Clusters using the dataset given.\n",
        "\n"
      ],
      "metadata": {
        "id": "ZEGn3HEqevj9"
      }
    },
    {
      "cell_type": "markdown",
      "source": [
        "# Prerequisites - installation of ænet\n",
        "\n",
        "We will use the atomic energy network (ænet) package (http://ann.atomistic.net) artificial neural network (ANN) potential package\n",
        "\n",
        "    N. Artrith and A. Urban, Comput. Mater. Sci. 114 (2016) 135-150.\n",
        "    N. Artrith, A. Urban, and G. Ceder, Phys. Rev. B 96 (2017) 014112.\n",
        "    Larsen et al., J. Phys.: Condens. Matter Vol. 29 273002, 2017\n"
      ],
      "metadata": {
        "id": "pp6puB2FfZjk"
      }
    },
    {
      "cell_type": "code",
      "execution_count": null,
      "metadata": {
        "id": "L5JMQLEeUS76"
      },
      "outputs": [],
      "source": [
        "try:\n",
        "  import aenet\n",
        "  print(\"successfully imported aenet\")\n",
        "except ImportError:\n",
        "  !! git clone https://github.com/atomisticnet/aenet.git\n",
        "  !! cd aenet/lib && make\n",
        "  !! cd aenet/src && make -f makefiles/Makefile.gfortran_serial\n",
        "  !! cd aenet/src && make -f makefiles/Makefile.gfortran_serial lib\n",
        "  !! cd aenet/python3 && python3 setup.py build_ext --inplace\n",
        "  !! cd aenet/python3 && pip install -e . --user\n",
        "  print(\"completed installation of aenet\")"
      ]
    },
    {
      "cell_type": "markdown",
      "source": [
        "# Importing Materials from Github\n",
        "Get additional materials for this tutorial from GitHub (https://github.com/patra-group/AENET_TiO2_Files.git)."
      ],
      "metadata": {
        "id": "KYChTw_YhR6V"
      }
    },
    {
      "cell_type": "code",
      "source": [
        "!rm -rf 0* xsf sanple_data AENET_TiO2_Files\n",
        "import os\n",
        "if not os.path.exists('AENET_TiO2_Files'):\n",
        "  !! git clone https://github.com/patra-group/AENET_TiO2_Files.git\n",
        "else:\n",
        "  print(\"Tutorial files are already installed.\")\n",
        "!!cd AENET_TiO2_Files/\n",
        "!!unzip AENET_TiO2_Files/AENET_TiO2_Files.zip"
      ],
      "metadata": {
        "id": "xV3INKN9hq_t"
      },
      "execution_count": null,
      "outputs": []
    },
    {
      "cell_type": "markdown",
      "source": [
        "# Python imports\n",
        "\n",
        "We need to import Python packages/libaries that we will use below."
      ],
      "metadata": {
        "id": "2TcSKQ7PD2LH"
      }
    },
    {
      "cell_type": "code",
      "source": [
        "import numpy as np\n",
        "import pandas as pd\n",
        "import re\n",
        "from IPython.display import Image\n",
        "%matplotlib inline\n",
        "import matplotlib.pyplot as plt\n",
        "plt.rcParams.update({\"font.size\": 15})\n",
        "plt.close(\"all\")"
      ],
      "metadata": {
        "id": "ewhQD5a8D4C5"
      },
      "execution_count": null,
      "outputs": []
    },
    {
      "cell_type": "code",
      "source": [
        "try:\n",
        "  import ase\n",
        "  print(\"successfully imported ase\")\n",
        "except ImportError:\n",
        "  !! pip install ase --user --upgrade\n",
        "  print(\"completed installing ASE\")"
      ],
      "metadata": {
        "id": "WGkSq9QuZjqB"
      },
      "execution_count": null,
      "outputs": []
    },
    {
      "cell_type": "code",
      "source": [
        "try:\n",
        "  import aenet\n",
        "  import ase\n",
        "  print(\"Both aenet and ase could be imported. You are all set for the tutorial.\")\n",
        "except ImportError:\n",
        "  print(\"The notebook needs to be restarted. Run this cell again once the restart is done.\")\n",
        "  import os\n",
        "  os.kill(os.getpid(), 9)\n",
        "import ase\n",
        "import ase.spacegroup\n",
        "import ase.visualize\n",
        "atoms = ase.io.read(\"/content/xsf/structure0200.xsf\")\n",
        "ase.visualize.view(atoms, viewer='x3d')"
      ],
      "metadata": {
        "id": "Cd_ajEfWZoKd"
      },
      "execution_count": null,
      "outputs": []
    },
    {
      "cell_type": "markdown",
      "source": [
        "# 01-generate: Generating the reference data set\n",
        "\n",
        "The first step is the transformation of the atomic structures in the reference data set into a feature-vector representation of local atomic environments.  This is done with the ænet tool `generate.x`.\n",
        "\n",
        "We enter a subdirectory in which we will generate the reference data set."
      ],
      "metadata": {
        "id": "bTd9msgKEBJK"
      }
    },
    {
      "cell_type": "code",
      "source": [],
      "metadata": {
        "id": "lresgDKJEGqI"
      },
      "execution_count": null,
      "outputs": []
    },
    {
      "cell_type": "markdown",
      "source": [
        "Let's take a look at the *fingerprint* set-up file for **Ti**.  The one for **O** is similar.\n",
        "\n",
        "[1] J. Behler, [J. Chem. Phys. 134, 074106 (2011)](https://doi.org/10.1063/1.3553717)."
      ],
      "metadata": {
        "id": "tXIRAe_1FlYi"
      }
    },
    {
      "cell_type": "code",
      "source": [],
      "metadata": {
        "id": "R_QKPrOcF_j3"
      },
      "execution_count": null,
      "outputs": []
    },
    {
      "cell_type": "markdown",
      "source": [
        "In this example, everything is already prepared to start with the reference data set generation.  So, we can simply run `generate.x` and wait until all structures have been processed.  We collect the output that `generate.x` prints to the screen in a file named `generate.out`.  Note that this can take a minute:"
      ],
      "metadata": {
        "id": "JYFKEalOJjJP"
      }
    },
    {
      "cell_type": "code",
      "source": [],
      "metadata": {
        "id": "Oh-Q99EWJzBf"
      },
      "execution_count": null,
      "outputs": []
    },
    {
      "cell_type": "code",
      "source": [],
      "metadata": {
        "id": "JXoVy96NKCSz"
      },
      "execution_count": null,
      "outputs": []
    },
    {
      "cell_type": "markdown",
      "source": [
        "The training-set file `TiO2.train` has been generated. **Note that training-set files are binary files and cannot be opened with a text editor.**\n",
        "\n",
        "Now, we are ready to train our TiO2 cluster potential.  Let's return to the main directory."
      ],
      "metadata": {
        "id": "LcNIr10qLGG7"
      }
    },
    {
      "cell_type": "code",
      "source": [],
      "metadata": {
        "id": "bacVWs97LQBe"
      },
      "execution_count": null,
      "outputs": []
    },
    {
      "cell_type": "markdown",
      "source": [
        "# 02-train: Training an ANN potential\n",
        "\n",
        "In this section, we will use the reference data set generated in the previous section to train an artificial neural network (ANN) potential.\n",
        "\n",
        "Potential training is also done with a command-line tool, which is named `train.x`. "
      ],
      "metadata": {
        "id": "MykdO4q8Lbku"
      }
    },
    {
      "cell_type": "code",
      "source": [],
      "metadata": {
        "id": "pOODuCWVLcgZ"
      },
      "execution_count": null,
      "outputs": []
    },
    {
      "cell_type": "markdown",
      "source": [
        "An input file for `train.x`, named `train.in`, has already been prepared for us.  This file contains the following instructions\n",
        "\n",
        "- The path to the reference data set file (`TiO2.train`),\n",
        "- The fraction of the data set that should be set aside as validation set,\n",
        "- The number of training iterations (epochs) to perform,\n",
        "- The training method and its parameters, and\n",
        "- The *architecture* of the atomic-energy ANNs for each species.\n",
        "\n",
        "For more details, see also the aenet documentation: http://ann.atomistic.net/documentation/"
      ],
      "metadata": {
        "id": "VsfxfK1uL8Pd"
      }
    },
    {
      "cell_type": "code",
      "source": [],
      "metadata": {
        "id": "IUIWN5UIMC82"
      },
      "execution_count": null,
      "outputs": []
    },
    {
      "cell_type": "markdown",
      "source": [
        "Before we can start with training, the reference data set file needs to be made available.  We will copy **TiO2.train from 01-generate** to the present directory."
      ],
      "metadata": {
        "id": "a476RdOHMWDF"
      }
    },
    {
      "cell_type": "code",
      "source": [],
      "metadata": {
        "id": "SLNXv9M-Mk0j"
      },
      "execution_count": null,
      "outputs": []
    },
    {
      "cell_type": "markdown",
      "source": [
        "Now, we perform the training.  Note that this can take a few minutes.  We can observe the training iterations."
      ],
      "metadata": {
        "id": "pDOAFy56M_YS"
      }
    },
    {
      "cell_type": "code",
      "source": [],
      "metadata": {
        "id": "coGISr-2NEVV"
      },
      "execution_count": null,
      "outputs": []
    },
    {
      "cell_type": "markdown",
      "source": [
        "# Analyzing the training results\n",
        "\n",
        "Was the training successful?  One measure is the performance of the trained potential on the validation set, which is reported for each training epoch on lines that like the following:\n",
        "\n",
        "    N  MAE_train  RMSE_train  MAE_val  RMSE_val  <\n",
        "\n",
        "`N` is the training iteration (or *epoch*), `MAE_train` and `RMSE_train` are the *mean absolute error* and *root mean squared error* on the training set, and `MAE_val` and `RMSE_val` are the same for the validation set."
      ],
      "metadata": {
        "id": "oedfb22VQuMk"
      }
    },
    {
      "cell_type": "code",
      "source": [
        "errors = []\n",
        "with open(\"/content/02-train/train.out\") as fp:\n",
        "  for line in fp:\n",
        "    if re.match(\"^ *[0-9].*<$\", line):\n",
        "      errors.append([float(a) for a in line.split()[1:-1]])\n",
        "errors = np.array(errors)\n",
        "errors = pd.DataFrame(\n",
        "    data=errors, \n",
        "    columns=['MAE_train', 'RMSE_train', 'MAE_test', 'RMSE_test'])\n",
        "ax = errors[['RMSE_train', 'RMSE_test']].plot(logy=True)\n",
        "ax.set_xlabel(\"Epoch\"); ax.set_ylabel(\"RMSE (eV/atom)\")\n",
        "plt.show()"
      ],
      "metadata": {
        "id": "Z6iuYhOCQwNt"
      },
      "execution_count": null,
      "outputs": []
    },
    {
      "cell_type": "markdown",
      "source": [
        "## Comparison of training and validation errors\n",
        "\n",
        "`train.x` can export the errors for all training samples in the training and validation sets."
      ],
      "metadata": {
        "id": "saNleOT3VLyD"
      }
    },
    {
      "cell_type": "code",
      "source": [
        "test = \"/content/02-train/energies.train.0\"\n",
        "test_errors = np.loadtxt(test, skiprows=1, usecols=(3,4))\n",
        "limits = np.linspace(-8.533210, -6.884724)\n",
        "plt.plot(limits, limits, color=\"black\")\n",
        "plt.ticklabel_format(useOffset=False)\n",
        "plt.scatter(test_errors[:,0], test_errors[:,1], color=\"red\", s=20, label=\"validation\")\n",
        "plt.xlabel('DFT (eV/atom)')\n",
        "plt.ylabel('ANN (eV/atom)')\n",
        "plt.show()"
      ],
      "metadata": {
        "id": "0zpMR_OGVSHX"
      },
      "execution_count": null,
      "outputs": []
    },
    {
      "cell_type": "markdown",
      "source": [
        "#03-predict: Predicting the TiO2 structure\n",
        "There are 10 xsf files in 03-predict for which we use the training model to predict it's energy"
      ],
      "metadata": {
        "id": "DL8e4wmHdAbD"
      }
    },
    {
      "cell_type": "code",
      "source": [],
      "metadata": {
        "id": "Q6_QXHsvda9d"
      },
      "execution_count": null,
      "outputs": []
    }
  ]
}